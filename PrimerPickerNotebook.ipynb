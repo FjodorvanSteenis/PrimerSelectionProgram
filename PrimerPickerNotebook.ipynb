{
  "metadata": {
    "language_info": {
      "codemirror_mode": {
        "name": "python",
        "version": 3
      },
      "file_extension": ".py",
      "mimetype": "text/x-python",
      "name": "python",
      "nbconvert_exporter": "python",
      "pygments_lexer": "ipython3",
      "version": "3.8"
    },
    "kernelspec": {
      "name": "python",
      "display_name": "Python (Pyodide)",
      "language": "python"
    }
  },
  "nbformat_minor": 4,
  "nbformat": 4,
  "cells": [
    {
      "cell_type": "code",
      "source": "\nimport Modules as md\nimport pandas as pd\nimport time\n\nstart = time.time()\n\nPrimer3Output = \"Primer3Output.txt\"\nParsedPrimerList = md.Primer3Parser(Primer3Output)\n# Parser Works! \n\nAlignment = \"GH9Alignment.fas\"\nAlignmentDict = md.FastaAlignmentParser(Alignment)\n# AlignmentParser Works!\n\nSelectedLeftPrimers = md.SelectionFunction2(ParsedPrimerList, AlignmentDict, \"Left\", 1)\nSelectedPrimerPairList = md.SelectionFunction2(SelectedLeftPrimers, AlignmentDict, \"Right\", 0)\n\n\nGeneName = ParsedPrimerList[0].GeneName\nmd.SaveSelectedPrimers(SelectedPrimerPairList, GeneName, \"PrimerResults.txt\")\n# SaveSelectedPrimers Works!\n\n\n# End of timing\nend = time.time()\nDurationunrounded = end-start\nDuration = round(Durationunrounded, 2)\n\nprint(f\"That took {Duration} seconds!\")\n\nprint(f\"The number of primers that were checked is: {len(ParsedPrimerList)}\")\nprint(f\"The number of left primers that made it through is: {len(SelectedLeftPrimers)}\")\n\n\nLstLSeq = []\nLstRSeq = []\nfor i in SelectedPrimerPairList :\n    Lprimer = i.LeftPrimer          \n    LstLSeq.append(Lprimer)\n    Rprimer = i.RCoRP\n    LstRSeq.append(Rprimer)        \n            \ndf = pd.DataFrame(list(zip(LstLSeq, LstRSeq)),\n               columns =['LefSequence', 'RightSequence'])            \n            \ndf.to_excel('SequencesOutput.xlsx')\nprint(\"Sequences have been saved to Excel\")",
      "metadata": {
        "trusted": true
      },
      "execution_count": 1,
      "outputs": [
        {
          "ename": "<class 'ModuleNotFoundError'>",
          "evalue": "No module named 'Modules'",
          "traceback": [
            "\u001b[0;31m---------------------------------------------------------------------------\u001b[0m",
            "\u001b[0;31mModuleNotFoundError\u001b[0m                       Traceback (most recent call last)",
            "Cell \u001b[0;32mIn[1], line 1\u001b[0m\n\u001b[0;32m----> 1\u001b[0m \u001b[38;5;28;01mimport\u001b[39;00m \u001b[38;5;21;01mModules\u001b[39;00m \u001b[38;5;28;01mas\u001b[39;00m \u001b[38;5;21;01mmd\u001b[39;00m\n\u001b[1;32m      2\u001b[0m \u001b[38;5;28;01mimport\u001b[39;00m \u001b[38;5;21;01mpandas\u001b[39;00m \u001b[38;5;28;01mas\u001b[39;00m \u001b[38;5;21;01mpd\u001b[39;00m\n\u001b[1;32m      3\u001b[0m \u001b[38;5;28;01mimport\u001b[39;00m \u001b[38;5;21;01mtime\u001b[39;00m\n",
            "\u001b[0;31mModuleNotFoundError\u001b[0m: No module named 'Modules'"
          ],
          "output_type": "error"
        }
      ]
    },
    {
      "cell_type": "code",
      "source": "",
      "metadata": {},
      "execution_count": null,
      "outputs": []
    },
    {
      "cell_type": "code",
      "source": "",
      "metadata": {},
      "execution_count": null,
      "outputs": []
    }
  ]
}