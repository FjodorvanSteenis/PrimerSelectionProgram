{
  "cells": [
    {
      "cell_type": "code",
      "execution_count": null,
      "metadata": {
        "trusted": true
      },
      "outputs": [],
      "source": [
        "\n",
        "import Modules2 as md\n",
        "import pandas as pd\n",
        "import time\n",
        "\n",
        "start = time.time()\n",
        "\n",
        "Primer3Output = \"Primer3Output.txt\"\n",
        "ParsedPrimerList = md.Primer3Parser(Primer3Output)\n",
        "# Parser Works! \n",
        "\n",
        "Alignment = \"GH9Alignment.fas\"\n",
        "AlignmentDict = md.FastaAlignmentParser(Alignment)\n",
        "# AlignmentParser Works!\n",
        "\n",
        "SelectedLeftPrimers = md.SelectionFunction2(ParsedPrimerList, AlignmentDict, \"Left\", 0)\n",
        "SelectedPrimerPairList = md.SelectionFunction2(SelectedLeftPrimers, AlignmentDict, \"Right\", 0)\n",
        "\n",
        "\n",
        "GeneName = ParsedPrimerList[0].GeneName\n",
        "md.SaveSelectedPrimers(SelectedPrimerPairList, GeneName, \"PrimerResults.txt\")\n",
        "# SaveSelectedPrimers Works!\n",
        "\n",
        "\n",
        "# End of timing\n",
        "end = time.time()\n",
        "Durationunrounded = end-start\n",
        "Duration = round(Durationunrounded, 2)\n",
        "\n",
        "print(f\"That took {Duration} seconds!\")\n",
        "\n",
        "print(f\"The number of primers that were checked is: {len(ParsedPrimerList)}\")\n",
        "print(f\"The number of left primers that made it through is: {len(SelectedLeftPrimers)}\")\n",
        "\n",
        "\n",
        "LstLSeq = []\n",
        "LstRSeq = []\n",
        "for i in SelectedPrimerPairList :\n",
        "    Lprimer = i.LeftPrimer          \n",
        "    LstLSeq.append(Lprimer)\n",
        "    Rprimer = i.RCoRP\n",
        "    LstRSeq.append(Rprimer)        \n",
        "            \n",
        "df = pd.DataFrame(list(zip(LstLSeq, LstRSeq)),\n",
        "               columns =['LefSequence', 'RightSequence'])            \n",
        "            \n",
        "df.to_excel('SequencesOutput.xlsx')\n",
        "print(\"Sequences have been saved to Excel\")"
      ]
    }
  ],
  "metadata": {
    "kernelspec": {
      "display_name": "Python (Pyodide)",
      "language": "python",
      "name": "python"
    },
    "language_info": {
      "codemirror_mode": {
        "name": "python",
        "version": 3
      },
      "file_extension": ".py",
      "mimetype": "text/x-python",
      "name": "python",
      "nbconvert_exporter": "python",
      "pygments_lexer": "ipython3",
      "version": "3.8"
    }
  },
  "nbformat": 4,
  "nbformat_minor": 4
}
